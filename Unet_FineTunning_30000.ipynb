{
  "nbformat": 4,
  "nbformat_minor": 0,
  "metadata": {
    "colab": {
      "provenance": [],
      "authorship_tag": "ABX9TyNSNjCkxmM8Rj+gudqEFyx3",
      "include_colab_link": true
    },
    "kernelspec": {
      "name": "python3",
      "display_name": "Python 3"
    },
    "language_info": {
      "name": "python"
    }
  },
  "cells": [
    {
      "cell_type": "markdown",
      "metadata": {
        "id": "view-in-github",
        "colab_type": "text"
      },
      "source": [
        "<a href=\"https://colab.research.google.com/github/Heo-JuYeong/Data_Analysis_Team3_Project/blob/main/Unet_FineTunning_30000.ipynb\" target=\"_parent\"><img src=\"https://colab.research.google.com/assets/colab-badge.svg\" alt=\"Open In Colab\"/></a>"
      ]
    },
    {
      "cell_type": "markdown",
      "source": [
        "# **0. Basic Setting**"
      ],
      "metadata": {
        "id": "P50XzOml6UoI"
      }
    },
    {
      "cell_type": "code",
      "execution_count": null,
      "metadata": {
        "id": "ZPD62zv55N0L"
      },
      "outputs": [],
      "source": [
        "# 구글 드라이브 마운트\n",
        "\n",
        "from google.colab import drive\n",
        "drive.mount('/content/drive')"
      ]
    },
    {
      "cell_type": "code",
      "source": [
        "# pip install\n",
        "\n",
        "!pip install segmentation-models-pytorch\n",
        "!pip install albumentations"
      ],
      "metadata": {
        "id": "6p_WFiNz5Zwg"
      },
      "execution_count": null,
      "outputs": []
    },
    {
      "cell_type": "code",
      "source": [
        "# 라이브러리 import\n",
        "\n",
        "import os\n",
        "import cv2\n",
        "import torch\n",
        "import numpy as np\n",
        "\n",
        "from torch.utils.data import Dataset, DataLoader, random_split\n",
        "from torch import nn, optim\n",
        "from torchvision import transforms\n",
        "# from torchvision.transforms import ToTensor\n",
        "\n",
        "import segmentation_models_pytorch as smp\n",
        "\n",
        "from PIL import Image\n",
        "from tqdm import tqdm\n",
        "from glob import glob\n",
        "import matplotlib.pyplot as plt"
      ],
      "metadata": {
        "id": "5lYdj7y75c6z"
      },
      "execution_count": null,
      "outputs": []
    },
    {
      "cell_type": "code",
      "source": [
        "# device setting\n",
        "device = torch.device(\"cuda\" if torch.cuda.is_available() else \"cpu\")\n",
        "print(\"Using device:\", device)"
      ],
      "metadata": {
        "id": "87ae-kxu5gQD"
      },
      "execution_count": null,
      "outputs": []
    },
    {
      "cell_type": "markdown",
      "source": [
        "# **2. Define Class** & **Methods**"
      ],
      "metadata": {
        "id": "Y-YeRKRE6Yhy"
      }
    },
    {
      "cell_type": "code",
      "source": [
        "# 정답 데이터(label)과 class mapping\n",
        "\n",
        "GRAYSCALE_CLASS_MAP = {\n",
        "    10: 0, 20: 1, 30: 2, 40: 3, 50: 4, 60: 5, 70: 6, 80: 7, 100: 8\n",
        "}\n",
        "\n",
        "def convert_mask(mask):\n",
        "    converted = np.zeros_like(mask, dtype=np.uint8)\n",
        "    for gray_val, class_idx in GRAYSCALE_CLASS_MAP.items():\n",
        "        converted[mask == gray_val] = class_idx\n",
        "    return converted"
      ],
      "metadata": {
        "id": "qquAhvmS5jtk"
      },
      "execution_count": null,
      "outputs": []
    },
    {
      "cell_type": "code",
      "source": [
        "# 사용자 정의 Dataset 클래스\n",
        "\n",
        "class SegmentationDataset(Dataset):\n",
        "    def __init__(self, image_dir, mask_dir, transform=None, mask_transform=None):\n",
        "        self.image_dir = image_dir\n",
        "        self.mask_dir = mask_dir\n",
        "        self.image_files = sorted(glob(os.path.join(test_image_dir, '*.tif')))\n",
        "        self.mask_files = sorted(glob(os.path.join(test_mask_dir, '*.tif')))\n",
        "        self.transform = transform\n",
        "        self.mask_transform = mask_transform\n",
        "\n",
        "    def __len__(self):\n",
        "        return len(self.image_files)\n",
        "\n",
        "    def __getitem__(self, idx):\n",
        "        img_path = os.path.join(self.image_dir, self.image_files[idx])\n",
        "        mask_path = os.path.join(self.mask_dir, self.mask_files[idx])\n",
        "\n",
        "        image = Image.open(img_path).convert(\"RGB\")\n",
        "        mask = Image.open(mask_path)\n",
        "\n",
        "        if self.transform:\n",
        "            image = self.transform(image)\n",
        "        if self.mask_transform:\n",
        "            mask = self.mask_transform(mask)\n",
        "        else:\n",
        "            mask = np.array(mask, dtype=np.int64)\n",
        "            mask = torch.from_numpy(mask)\n",
        "\n",
        "        return image, mask"
      ],
      "metadata": {
        "id": "P5fl7PZ-5pQs"
      },
      "execution_count": null,
      "outputs": []
    },
    {
      "cell_type": "code",
      "source": [
        "# EarlyStopping 클래스\n",
        "\n",
        "class EarlyStopping:\n",
        "    def __init__(self, patience=5, min_delta=0.0):\n",
        "        self.patience = patience\n",
        "        self.min_delta = min_delta\n",
        "        self.counter = 0\n",
        "        self.best_loss = np.inf\n",
        "        self.early_stop = False\n",
        "\n",
        "    def __call__(self, val_loss):\n",
        "        if val_loss < self.best_loss - self.min_delta:\n",
        "            self.best_loss = val_loss\n",
        "            self.counter = 0\n",
        "        else:\n",
        "            self.counter += 1\n",
        "            print(f\"EarlyStopping counter: {self.counter} / {self.patience}\")\n",
        "            if self.counter >= self.patience:\n",
        "                self.early_stop = True"
      ],
      "metadata": {
        "id": "tqAv3uGO6h2J"
      },
      "execution_count": null,
      "outputs": []
    },
    {
      "cell_type": "code",
      "source": [
        "# 경로 설정\n",
        "\n",
        "train_image_dir = '/content/your_path/train/images'\n",
        "train_mask_dir = '/content/your_path/train/masks'\n",
        "test_image_dir = '/content/your_path/test/images'\n",
        "test_mask_dir = '/content/your_path/test/masks'"
      ],
      "metadata": {
        "id": "UP8wmJLu6hud"
      },
      "execution_count": null,
      "outputs": []
    },
    {
      "cell_type": "code",
      "source": [
        "# Transform 정의\n",
        "\n",
        "transform = transforms.Compose([\n",
        "    transforms.Resize((512, 512)),\n",
        "    transforms.ToTensor(),\n",
        "])"
      ],
      "metadata": {
        "id": "J_EmLRTLAakI"
      },
      "execution_count": null,
      "outputs": []
    },
    {
      "cell_type": "code",
      "source": [
        "# Dataset 정의\n",
        "\n",
        "full_train_dataset = SegmentationDataset(train_image_dir, train_mask_dir, transform=transform)\n",
        "test_dataset = SegmentationDataset(test_image_dir, test_mask_dir, transform=transform)"
      ],
      "metadata": {
        "id": "cWXY7broAad7"
      },
      "execution_count": null,
      "outputs": []
    },
    {
      "cell_type": "code",
      "source": [
        "# train/val split\n",
        "\n",
        "val_ratio = 0.2\n",
        "train_size = int(len(full_train_dataset) * (1 - val_ratio))\n",
        "val_size = len(full_train_dataset) - train_size\n",
        "train_dataset, val_dataset = random_split(full_train_dataset, [train_size, val_size])"
      ],
      "metadata": {
        "id": "C90pjI17AaVw"
      },
      "execution_count": null,
      "outputs": []
    },
    {
      "cell_type": "code",
      "source": [
        "# DataLoader 생성\n",
        "\n",
        "train_loader = DataLoader(train_dataset, batch_size=8, shuffle=True, num_workers=2)\n",
        "val_loader = DataLoader(val_dataset, batch_size=8, shuffle=False, num_workers=2)\n",
        "test_loader = DataLoader(test_dataset, batch_size=8, shuffle=False, num_workers=2)"
      ],
      "metadata": {
        "id": "hpxHdQIVBVKR"
      },
      "execution_count": null,
      "outputs": []
    },
    {
      "cell_type": "markdown",
      "source": [
        "# **2. 모델 정의 및 학습(Fine-Tunning)**"
      ],
      "metadata": {
        "id": "hxqLCXUs8Ros"
      }
    },
    {
      "cell_type": "code",
      "source": [
        "model = smp.Unet(\n",
        "    encoder_name=\"resnet34\",\n",
        "    encoder_weights=\"imagenet\",\n",
        "    in_channels=3,\n",
        "    classes=9\n",
        ").to(device)\n",
        "\n",
        "criterion = nn.CrossEntropyLoss()\n",
        "optimizer = optim.Adam(model.parameters(), lr=1e-4)\n",
        "model.summary()"
      ],
      "metadata": {
        "id": "K1VkZDib8Q9R"
      },
      "execution_count": null,
      "outputs": []
    },
    {
      "cell_type": "code",
      "source": [
        "best_val_loss = float('inf')\n",
        "patience = 7\n",
        "# 3epoch 동안 개선 없을 시 조기 종료(총 10epoch 학습이라 1/3지점으로 설정)\n",
        "trigger_times = 0\n",
        "save_path = '/content/best_unet_model.pth'\n",
        "num_epochs = 10\n",
        "\n",
        "for epoch in range(num_epochs):\n",
        "    model.train()\n",
        "    running_loss = 0.0\n",
        "    loop = tqdm(train_loader, desc=f\"Epoch [{epoch+1}/{num_epochs}]\", leave=False)\n",
        "\n",
        "    for images, masks in loop:\n",
        "        images = images.to(device)\n",
        "        masks = masks.to(device)\n",
        "\n",
        "        optimizer.zero_grad()\n",
        "        outputs = model(images)\n",
        "        loss = criterion(outputs, masks)\n",
        "        loss.backward()\n",
        "        optimizer.step()\n",
        "\n",
        "        running_loss += loss.item()\n",
        "        loop.set_postfix(train_loss=loss.item())\n",
        "\n",
        "    epoch_loss = running_loss / len(train_loader)\n",
        "\n",
        "    # Validation step\n",
        "    model.eval()\n",
        "    val_loss = 0.0\n",
        "    with torch.no_grad():\n",
        "        for val_images, val_masks in val_loader:\n",
        "            val_images = val_images.to(device)\n",
        "            val_masks = val_masks.to(device)\n",
        "\n",
        "            val_outputs = model(val_images)\n",
        "            val_loss += criterion(val_outputs, val_masks).item()\n",
        "\n",
        "    val_loss /= len(val_loader)\n",
        "    print(f\"\\nEpoch {epoch+1}, Train Loss: {epoch_loss:.4f}, Val Loss: {val_loss:.4f}\")\n",
        "\n",
        "    # EarlyStopping & Checkpoint\n",
        "    if val_loss < best_val_loss:\n",
        "        best_val_loss = val_loss\n",
        "        torch.save(model.state_dict(), save_path)\n",
        "        print(f\"Validation loss improved. Saving model to {save_path}\")\n",
        "        trigger_times = 0\n",
        "    else:\n",
        "        trigger_times += 1\n",
        "        print(f\"No improvement in validation loss for {trigger_times} epochs.\")\n",
        "\n",
        "    if trigger_times >= patience:\n",
        "        print(\"Early stopping triggered. Training stopped.\")\n",
        "        break"
      ],
      "metadata": {
        "id": "nTLnZcw28Qxm"
      },
      "execution_count": null,
      "outputs": []
    },
    {
      "cell_type": "markdown",
      "source": [
        "# **3. Evaluation**"
      ],
      "metadata": {
        "id": "cUgp5DR_BvHx"
      }
    },
    {
      "cell_type": "code",
      "source": [
        "# Intersection over Union (IoU)\n",
        "\n",
        "def compute_iou(pred, target, num_classes):\n",
        "    ious = []\n",
        "    for cls in range(num_classes):\n",
        "        pred_inds = (pred == cls)\n",
        "        target_inds = (target == cls)\n",
        "        intersection = (pred_inds & target_inds).sum()\n",
        "        union = (pred_inds | target_inds).sum()\n",
        "        if union == 0:\n",
        "            ious.append(float('nan'))  # 해당 클래스가 없을 때\n",
        "        else:\n",
        "            ious.append(float(intersection) / float(union))\n",
        "    return np.nanmean(ious)  # 평균 IoU"
      ],
      "metadata": {
        "id": "GsgNyLq2Bxp4"
      },
      "execution_count": null,
      "outputs": []
    },
    {
      "cell_type": "code",
      "source": [
        "# Dice Coeifficient\n",
        "\n",
        "def dice_coefficient(pred, target, num_classes):\n",
        "    dices = []\n",
        "    for cls in range(num_classes):\n",
        "        pred_inds = (pred == cls)\n",
        "        target_inds = (target == cls)\n",
        "        intersection = (pred_inds & target_inds).sum()\n",
        "        dice = (2. * intersection) / (pred_inds.sum() + target_inds.sum() + 1e-7)\n",
        "        dices.append(dice)\n",
        "    return np.mean(dices)"
      ],
      "metadata": {
        "id": "406a4DymB0Qp"
      },
      "execution_count": null,
      "outputs": []
    },
    {
      "cell_type": "code",
      "source": [
        "# Pixel Accuracy\n",
        "\n",
        "def pixel_accuracy(pred, target):\n",
        "    correct = (pred == target).sum()\n",
        "    total = pred.size\n",
        "    return correct / total"
      ],
      "metadata": {
        "id": "il4P_jglB0Nw"
      },
      "execution_count": null,
      "outputs": []
    },
    {
      "cell_type": "code",
      "source": [
        "# Per-Class Accuracy\n",
        "\n",
        "def per_class_accuracy(pred, target, num_classes):\n",
        "    accuracies = []\n",
        "    for cls in range(num_classes):\n",
        "        cls_mask = (target == cls)\n",
        "        if cls_mask.sum() == 0:\n",
        "            accuracies.append(float('nan'))\n",
        "            continue\n",
        "        correct = ((pred == cls) & cls_mask).sum()\n",
        "        total = cls_mask.sum()\n",
        "        accuracies.append(correct / total)\n",
        "    return accuracies  # type : list"
      ],
      "metadata": {
        "id": "SAiGUKSJB0JS"
      },
      "execution_count": null,
      "outputs": []
    },
    {
      "cell_type": "code",
      "source": [
        "# define input_tensor\n",
        "test_image = Image.open(\"path/to/image.jpg\").convert(\"RGB\")\n",
        "transform = transforms.Compose([\n",
        "    transforms.Resize((256, 256)),\n",
        "    transforms.ToTensor()\n",
        "])\n",
        "input_tensor = transform(test_image).unsqueeze(0)  # shape: [1, 3, 256, 256]\n",
        "\n",
        "# define ground_trutt\n",
        "gt_mask = Image.open(\"path/to/mask.png\")\n",
        "gt_mask = np.array(gt_mask)  # shape: [H, W]\n",
        "ground_truth = torch.tensor(gt_mask, dtype=torch.long)  # for loss / metric"
      ],
      "metadata": {
        "id": "-At4CxRUCnX-"
      },
      "execution_count": null,
      "outputs": []
    },
    {
      "cell_type": "code",
      "source": [
        "# 모델 평가\n",
        "\n",
        "model.eval()\n",
        "\n",
        "with torch.no_grad():\n",
        "    output = model(input_tensor.to(device))  # shape: [1, num_classes, H, W]\n",
        "    pred_mask = torch.argmax(output, dim=1).squeeze(0).cpu().numpy()  # shape: [H, W]\n",
        "\n",
        "true_mask = ground_truth.squeeze().numpy()  # shape: [H, W]\n",
        "\n",
        "# metric 계산\n",
        "iou = compute_iou(pred_mask, true_mask, num_classes=9)\n",
        "dice = dice_coefficient(pred_mask, true_mask, num_classes=9)\n",
        "pixel_acc = pixel_accuracy(pred_mask, true_mask)\n",
        "\n",
        "print(f\"IoU: {iou:.4f}, Dice: {dice:.4f}, Pixel Accuracy: {pixel_acc:.4f}\")"
      ],
      "metadata": {
        "id": "ZiaVmqrfCFAH"
      },
      "execution_count": null,
      "outputs": []
    },
    {
      "cell_type": "markdown",
      "source": [
        "# **4.Visualization**"
      ],
      "metadata": {
        "id": "RbC64KrR9Ohu"
      }
    },
    {
      "cell_type": "code",
      "source": [
        "# 시각화 전처리\n",
        "\n",
        "# 9개 클래스에 대해 고정된 colormap\n",
        "CLASS_COLORS = np.array([\n",
        "    [0, 0, 255],     # 건물 (blue)\n",
        "    [128, 0, 128],   # 주차장 (purple)\n",
        "    [0, 255, 255],   # 도로 (cyan)\n",
        "    [0, 255, 0],     # 가로수 (green)\n",
        "    [255, 255, 0],   # 논 (yellow)\n",
        "    [255, 200, 0],   # 밭 (orange)\n",
        "    [0, 128, 0],     # 산림 (dark green)\n",
        "    [139, 69, 19],   # 나지 (brown)\n",
        "    [128, 128, 128], # 비대상지 (gray)\n",
        "], dtype=np.uint8)\n",
        "\n",
        "def decode_segmap(mask):\n",
        "    \"\"\"Class index mask -> RGB image\"\"\"\n",
        "    return CLASS_COLORS[mask]"
      ],
      "metadata": {
        "id": "kJFxcwB39OPG"
      },
      "execution_count": null,
      "outputs": []
    },
    {
      "cell_type": "code",
      "source": [
        "# 시각화\n",
        "\n",
        "with torch.no_grad():\n",
        "    sample_img, sample_mask = test_dataset[10]\n",
        "    sample_img_cuda = sample_img.unsqueeze(0).to(device)\n",
        "\n",
        "    pred = model(sample_img_cuda)\n",
        "    pred_mask = torch.argmax(pred.squeeze(), dim=0).cpu().numpy()  # [C,H,W] -> [H,W]\n",
        "    gt_mask = sample_mask.cpu().numpy()\n",
        "\n",
        "    plt.figure(figsize=(12,4))\n",
        "\n",
        "    plt.subplot(1,3,1)\n",
        "    plt.imshow(sample_img.permute(1,2,0).cpu().numpy())\n",
        "    plt.title(\"Image\")\n",
        "\n",
        "    plt.subplot(1,3,2)\n",
        "    plt.imshow(decode_segmap(gt_mask))\n",
        "    plt.title(\"Ground Truth\")\n",
        "\n",
        "    plt.subplot(1,3,3)\n",
        "    plt.imshow(decode_segmap(pred_mask))\n",
        "    plt.title(\"Prediction\")\n",
        "\n",
        "    plt.show()"
      ],
      "metadata": {
        "id": "-pfKL9s59fiQ"
      },
      "execution_count": null,
      "outputs": []
    }
  ]
}